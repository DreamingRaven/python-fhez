{
 "cells": [
  {
   "cell_type": "markdown",
   "id": "fba1a2b9-1d6f-4a5f-9d89-64515be5c958",
   "metadata": {},
   "source": [
    "Graph Playground\n",
    "================\n",
    "\n",
    "This notebook serves as a little playground to play around with graphs like the prefab graphs.\n",
    "This is a great place to experiment with the networkx API."
   ]
  },
  {
   "cell_type": "code",
   "execution_count": null,
   "id": "7d483b83-004f-480b-9b58-b1b473c0dac3",
   "metadata": {},
   "outputs": [],
   "source": [
    "import pprint\n",
    "import networkx as nx\n",
    "from fhez.nn.graph.prefab import cnn_classifier, cnn_regressor\n",
    "from pyvis.network import Network\n"
   ]
  },
  {
   "cell_type": "code",
   "execution_count": null,
   "id": "b167dd3b-a563-451e-a3d2-48ce5ee5313f",
   "metadata": {},
   "outputs": [],
   "source": [
    "graph = cnn_classifier(10)\n",
    "graph.add_edge(\"CNN-acti\", \"Dense-0\") # adding this so we can see parallel edges\n",
    "graph.add_edge(\"CNN-sop-0\", \"CNN-acti\") # same as above but for parallel predecessors\n",
    "print(graph)"
   ]
  },
  {
   "cell_type": "markdown",
   "id": "1862fae7-98a7-4839-a84a-43e7a7df02b9",
   "metadata": {},
   "source": [
    "Exectuive Summary\n",
    "-----------------"
   ]
  },
  {
   "cell_type": "markdown",
   "id": "7d73df76-4ab2-4291-a219-72405cffd813",
   "metadata": {},
   "source": [
    "you can only MODIFY the deepest most nested dictionaries, you cannot SET the dictionaries as a whole. The structure of the graph is immutable you need to use add_edge, add_node, etc to modify the sturcture"
   ]
  },
  {
   "cell_type": "code",
   "execution_count": null,
   "id": "7d793904-71cf-4460-b337-63144e7307ef",
   "metadata": {},
   "outputs": [],
   "source": [
    "# View and modify predecessors\n",
    "graph.in_edges(\"CNN-acti\", data=True)"
   ]
  },
  {
   "cell_type": "code",
   "execution_count": null,
   "id": "6162ce7c-5cd3-4b43-a1b8-2995c8caee01",
   "metadata": {},
   "outputs": [],
   "source": [
    "# view and modify current node\n",
    "graph.nodes(data=True)[\"CNN-acti\"]"
   ]
  },
  {
   "cell_type": "code",
   "execution_count": null,
   "id": "a544fe93-b0a3-48f5-b48a-a9dc1b6332d7",
   "metadata": {},
   "outputs": [],
   "source": [
    "# View and modify successors\n",
    "graph.edges(\"CNN-acti\", data=True)"
   ]
  },
  {
   "cell_type": "markdown",
   "id": "e7e49fd5-67dd-4bee-ba3f-393d5ee89a0d",
   "metadata": {},
   "source": [
    "Node data access\n",
    "----------------\n"
   ]
  },
  {
   "cell_type": "code",
   "execution_count": null,
   "id": "7450d028-ff9a-4875-82db-6866b267a1a1",
   "metadata": {},
   "outputs": [],
   "source": [
    "# gets forward adjacency of node\n",
    "graph[\"CNN-acti\"]"
   ]
  },
  {
   "cell_type": "code",
   "execution_count": null,
   "id": "01104888-73f9-45ec-b21b-887b2316bb56",
   "metadata": {},
   "outputs": [],
   "source": [
    "# get and set node properties\n",
    "graph.nodes[\"CNN-acti\"][\"new\"] = \"new\"\n",
    "graph.nodes[\"CNN-acti\"]"
   ]
  },
  {
   "cell_type": "code",
   "execution_count": null,
   "id": "9992fca9-e753-41f0-b455-3f102a1d36af",
   "metadata": {},
   "outputs": [],
   "source": [
    "# same as above but intermediary object without dict key lookup is more verbose\n",
    "graph.nodes(data=True)[\"CNN-acti\"][\"new\"] = \"verbose\"\n",
    "graph.nodes(data=True)[\"CNN-acti\"]"
   ]
  },
  {
   "cell_type": "code",
   "execution_count": null,
   "id": "77d1c23f-aaac-4592-bd99-cd0ee8e64bdb",
   "metadata": {},
   "outputs": [],
   "source": [
    "# more verbose vs less verbose node intermediary\n",
    "print(graph.nodes)\n",
    "print(graph.nodes(data=True))"
   ]
  },
  {
   "cell_type": "markdown",
   "id": "a93e03a4-71be-42ff-baca-80364f748e00",
   "metadata": {},
   "source": [
    "Forward Data Access\n",
    "-------------------"
   ]
  },
  {
   "cell_type": "code",
   "execution_count": null,
   "id": "540c54e8-d072-4b72-9790-5724bef0c391",
   "metadata": {},
   "outputs": [],
   "source": [
    "# direct edge lookup but not very useful as NOT WRITEABLE\n",
    "graph[\"CNN-acti\"][\"Dense-0\"]"
   ]
  },
  {
   "cell_type": "code",
   "execution_count": null,
   "id": "4cc82d18-d18e-45bf-af21-33810d62e045",
   "metadata": {},
   "outputs": [],
   "source": [
    "# getting list of forward edges by name (composite)\n",
    "graph.edges(\"CNN-acti\")"
   ]
  },
  {
   "cell_type": "code",
   "execution_count": null,
   "id": "2aaee62d-9cfc-4ecc-9657-5e2f6eb135c5",
   "metadata": {},
   "outputs": [],
   "source": [
    "# getting list of forward edges with names and attributes\n",
    "graph.edges(\"CNN-acti\", data=True)"
   ]
  },
  {
   "cell_type": "code",
   "execution_count": null,
   "id": "21464747-0f1d-4119-8d9a-b8b3cda1ede4",
   "metadata": {},
   "outputs": [],
   "source": [
    "# setting edge data\n",
    "for edge in graph.edges(\"CNN-acti\", data=True):\n",
    "    edge[2][\"something\"] = \"me\"\n",
    "    \n",
    "# proving that it has effected the graph\n",
    "for edge in graph.edges(\"CNN-acti\", data=True):\n",
    "    print(edge)"
   ]
  },
  {
   "cell_type": "code",
   "execution_count": null,
   "id": "d7d69ff9-48a0-4055-8e8a-711457235305",
   "metadata": {},
   "outputs": [],
   "source": [
    "# THIS DOES NOT SEE PARALLEL EDGES AS IT ONLY LISTS UNIQUE SUCCESSOR NODES!!!!!!!!!!!!!\n",
    "for i in graph.successors(\"CNN-acti\"):\n",
    "    print(i, type(i))"
   ]
  },
  {
   "cell_type": "markdown",
   "id": "78ea71ca-ff98-4db9-b48e-e9ac16242070",
   "metadata": {},
   "source": [
    "Backward Data Access\n",
    "--------------------"
   ]
  },
  {
   "cell_type": "code",
   "execution_count": null,
   "id": "6ff3da39-dbd5-49b2-ab9c-e5e73df8cf0c",
   "metadata": {},
   "outputs": [],
   "source": [
    "# THE ONLY VIABLE METHOD FOR DIRECTED MULTI GRAPHS WITH PARALLEL EDGES\n",
    "graph.in_edges(\"CNN-acti\", data=True)"
   ]
  },
  {
   "cell_type": "code",
   "execution_count": null,
   "id": "b9d593f6-9054-41bc-9b0a-1041a9bbf7af",
   "metadata": {},
   "outputs": [],
   "source": [
    "# THE ONLY GOOD WAY TO SET PREDECESSOR NODES (but probably best not to do so in most cases as it doesnt make much sense)\n",
    "for edge in graph.in_edges(\"CNN-acti\", data=True):\n",
    "    edge[2][\"new\"] = \"Something Borrowed\"\n",
    "    print(edge)"
   ]
  },
  {
   "cell_type": "code",
   "execution_count": null,
   "id": "b30ad45a-11d3-453c-85a3-6e864edd7179",
   "metadata": {},
   "outputs": [],
   "source": [
    "# TERRIBLE COMPLETELEY MISSES PARALLEL EDGES!!!!!!\n",
    "graph.pred[\"CNN-acti\"]"
   ]
  },
  {
   "cell_type": "code",
   "execution_count": null,
   "id": "388f1221-b500-475c-a7a7-539ca2053b8f",
   "metadata": {},
   "outputs": [],
   "source": [
    "# TERRIBLE DOES NOT SEE PARALLEL EDGES!!!!!!!!!\n",
    "for i in graph.predecessors(\"CNN-acti\"):\n",
    "    print(i, type(i))"
   ]
  },
  {
   "cell_type": "markdown",
   "id": "847b9ae5-1c4a-4150-b899-637ff87f0adf",
   "metadata": {},
   "source": [
    "# DISPLAY"
   ]
  },
  {
   "cell_type": "code",
   "execution_count": null,
   "id": "e3a39c38-8b46-445b-9f6f-794d1241e75f",
   "metadata": {},
   "outputs": [],
   "source": [
    "lancelot = cnn_regressor(data_shape=(500, 12), filter_length=10, stride=6)\n",
    "print(lancelot)"
   ]
  },
  {
   "cell_type": "code",
   "execution_count": null,
   "id": "2b64de34-ff06-4587-8188-35d4718f6eb8",
   "metadata": {},
   "outputs": [],
   "source": [
    "import copy\n",
    "def strip(graph):\n",
    "    g = copy.deepcopy(graph)\n",
    "    for node in g.nodes(data=True):\n",
    "        try:\n",
    "            # node[1][\"title\"] = \"{}:\\n{}\".format(type(node[1][\"node\"]), repr(node[1][\"node\"]))\n",
    "            del node[1][\"node\"]\n",
    "        except KeyError:\n",
    "            pass\n",
    "    return g"
   ]
  },
  {
   "cell_type": "code",
   "execution_count": null,
   "id": "939900fb-0c46-43d8-9696-0e59c2dd72d4",
   "metadata": {},
   "outputs": [],
   "source": [
    "from pyvis.network import Network\n",
    "stripped = strip(lancelot)\n",
    "print(stripped)\n",
    "\n",
    "from pyvis.network import Network\n",
    "net = Network('700px', '700px', bgcolor='#222222', font_color='white', notebook=True)\n",
    "net.from_nx(stripped)\n",
    "# net.show_buttons(filter_=\"physics\")\n",
    "net.show(\"graph.html\")"
   ]
  },
  {
   "cell_type": "code",
   "execution_count": null,
   "id": "d0794722-5591-4357-8aa1-53a051e0ac21",
   "metadata": {},
   "outputs": [],
   "source": []
  }
 ],
 "metadata": {
  "kernelspec": {
   "display_name": "Python 3 (ipykernel)",
   "language": "python",
   "name": "python3"
  },
  "language_info": {
   "codemirror_mode": {
    "name": "ipython",
    "version": 3
   },
   "file_extension": ".py",
   "mimetype": "text/x-python",
   "name": "python",
   "nbconvert_exporter": "python",
   "pygments_lexer": "ipython3",
   "version": "3.9.6"
  }
 },
 "nbformat": 4,
 "nbformat_minor": 5
}
