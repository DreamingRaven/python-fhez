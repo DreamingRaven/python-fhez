{
 "cells": [
  {
   "cell_type": "markdown",
   "id": "fba1a2b9-1d6f-4a5f-9d89-64515be5c958",
   "metadata": {},
   "source": [
    "Graph Playground\n",
    "================\n",
    "\n",
    "This notebook serves as a little playground to play around with graphs like the prefab graphs.\n",
    "This is a great place to experiment with the networkx API."
   ]
  },
  {
   "cell_type": "code",
   "execution_count": 1,
   "id": "7d483b83-004f-480b-9b58-b1b473c0dac3",
   "metadata": {},
   "outputs": [],
   "source": [
    "import pprint\n",
    "import networkx as nx\n",
    "from fhez.nn.graph.prefab import cnn_classifier\n",
    "from pyvis.network import Network\n"
   ]
  },
  {
   "cell_type": "code",
   "execution_count": 2,
   "id": "b167dd3b-a563-451e-a3d2-48ce5ee5313f",
   "metadata": {},
   "outputs": [
    {
     "name": "stdout",
     "output_type": "stream",
     "text": [
      "36\n",
      "MultiDiGraph with 67 nodes and 121 edges\n"
     ]
    }
   ],
   "source": [
    "graph = cnn_classifier(10)\n",
    "graph.add_edge(\"CNN-acti\", \"Dense-0\") # adding this so we can see parallel edges\n",
    "graph.add_edge(\"CNN-sop-0\", \"CNN-acti\") # same as above but for parallel predecessors\n",
    "print(graph)"
   ]
  },
  {
   "cell_type": "markdown",
   "id": "1862fae7-98a7-4839-a84a-43e7a7df02b9",
   "metadata": {},
   "source": [
    "Exectuive Summary\n",
    "-----------------"
   ]
  },
  {
   "cell_type": "markdown",
   "id": "7d73df76-4ab2-4291-a219-72405cffd813",
   "metadata": {},
   "source": [
    "you can only MODIFY the deepest most nested dictionaries, you cannot SET the dictionaries as a whole. The structure of the graph is immutable you need to use add_edge, add_node, etc to modify the sturcture"
   ]
  },
  {
   "cell_type": "code",
   "execution_count": 3,
   "id": "7d793904-71cf-4460-b337-63144e7307ef",
   "metadata": {},
   "outputs": [
    {
     "data": {
      "text/plain": [
       "InMultiEdgeDataView([('CNN-sop-0', 'CNN-acti', {'weight': 0}), ('CNN-sop-0', 'CNN-acti', {}), ('CNN-sop-1', 'CNN-acti', {'weight': 0}), ('CNN-sop-2', 'CNN-acti', {'weight': 0}), ('CNN-sop-3', 'CNN-acti', {'weight': 0}), ('CNN-sop-4', 'CNN-acti', {'weight': 0}), ('CNN-sop-5', 'CNN-acti', {'weight': 0}), ('CNN-sop-6', 'CNN-acti', {'weight': 0}), ('CNN-sop-7', 'CNN-acti', {'weight': 0}), ('CNN-sop-8', 'CNN-acti', {'weight': 0}), ('CNN-sop-9', 'CNN-acti', {'weight': 0}), ('CNN-sop-10', 'CNN-acti', {'weight': 0}), ('CNN-sop-11', 'CNN-acti', {'weight': 0}), ('CNN-sop-12', 'CNN-acti', {'weight': 0}), ('CNN-sop-13', 'CNN-acti', {'weight': 0}), ('CNN-sop-14', 'CNN-acti', {'weight': 0}), ('CNN-sop-15', 'CNN-acti', {'weight': 0}), ('CNN-sop-16', 'CNN-acti', {'weight': 0}), ('CNN-sop-17', 'CNN-acti', {'weight': 0}), ('CNN-sop-18', 'CNN-acti', {'weight': 0}), ('CNN-sop-19', 'CNN-acti', {'weight': 0}), ('CNN-sop-20', 'CNN-acti', {'weight': 0}), ('CNN-sop-21', 'CNN-acti', {'weight': 0}), ('CNN-sop-22', 'CNN-acti', {'weight': 0}), ('CNN-sop-23', 'CNN-acti', {'weight': 0}), ('CNN-sop-24', 'CNN-acti', {'weight': 0}), ('CNN-sop-25', 'CNN-acti', {'weight': 0}), ('CNN-sop-26', 'CNN-acti', {'weight': 0}), ('CNN-sop-27', 'CNN-acti', {'weight': 0}), ('CNN-sop-28', 'CNN-acti', {'weight': 0}), ('CNN-sop-29', 'CNN-acti', {'weight': 0}), ('CNN-sop-30', 'CNN-acti', {'weight': 0}), ('CNN-sop-31', 'CNN-acti', {'weight': 0}), ('CNN-sop-32', 'CNN-acti', {'weight': 0}), ('CNN-sop-33', 'CNN-acti', {'weight': 0}), ('CNN-sop-34', 'CNN-acti', {'weight': 0}), ('CNN-sop-35', 'CNN-acti', {'weight': 0})])"
      ]
     },
     "execution_count": 3,
     "metadata": {},
     "output_type": "execute_result"
    }
   ],
   "source": [
    "# View and modify predecessors\n",
    "graph.in_edges(\"CNN-acti\", data=True)"
   ]
  },
  {
   "cell_type": "code",
   "execution_count": 4,
   "id": "6162ce7c-5cd3-4b43-a1b8-2995c8caee01",
   "metadata": {},
   "outputs": [
    {
     "data": {
      "text/plain": [
       "{'group': 1, 'node': <fhez.nn.activation.relu.RELU at 0x7fc1d5e7b640>}"
      ]
     },
     "execution_count": 4,
     "metadata": {},
     "output_type": "execute_result"
    }
   ],
   "source": [
    "# view and modify current node\n",
    "graph.nodes(data=True)[\"CNN-acti\"]"
   ]
  },
  {
   "cell_type": "code",
   "execution_count": 5,
   "id": "a544fe93-b0a3-48f5-b48a-a9dc1b6332d7",
   "metadata": {},
   "outputs": [
    {
     "data": {
      "text/plain": [
       "OutMultiEdgeDataView([('CNN-acti', 'Dense-0', {'weight': 2}), ('CNN-acti', 'Dense-0', {}), ('CNN-acti', 'Dense-1', {'weight': 2}), ('CNN-acti', 'Dense-2', {'weight': 2}), ('CNN-acti', 'Dense-3', {'weight': 2}), ('CNN-acti', 'Dense-4', {'weight': 2}), ('CNN-acti', 'Dense-5', {'weight': 2}), ('CNN-acti', 'Dense-6', {'weight': 2}), ('CNN-acti', 'Dense-7', {'weight': 2}), ('CNN-acti', 'Dense-8', {'weight': 2}), ('CNN-acti', 'Dense-9', {'weight': 2})])"
      ]
     },
     "execution_count": 5,
     "metadata": {},
     "output_type": "execute_result"
    }
   ],
   "source": [
    "# View and modify successors\n",
    "graph.edges(\"CNN-acti\", data=True)"
   ]
  },
  {
   "cell_type": "markdown",
   "id": "e7e49fd5-67dd-4bee-ba3f-393d5ee89a0d",
   "metadata": {},
   "source": [
    "Node data access\n",
    "----------------\n"
   ]
  },
  {
   "cell_type": "code",
   "execution_count": 6,
   "id": "7450d028-ff9a-4875-82db-6866b267a1a1",
   "metadata": {},
   "outputs": [
    {
     "data": {
      "text/plain": [
       "AdjacencyView({'Dense-0': {0: {'weight': 2}, 1: {}}, 'Dense-1': {0: {'weight': 2}}, 'Dense-2': {0: {'weight': 2}}, 'Dense-3': {0: {'weight': 2}}, 'Dense-4': {0: {'weight': 2}}, 'Dense-5': {0: {'weight': 2}}, 'Dense-6': {0: {'weight': 2}}, 'Dense-7': {0: {'weight': 2}}, 'Dense-8': {0: {'weight': 2}}, 'Dense-9': {0: {'weight': 2}}})"
      ]
     },
     "execution_count": 6,
     "metadata": {},
     "output_type": "execute_result"
    }
   ],
   "source": [
    "# gets forward adjacency of node\n",
    "graph[\"CNN-acti\"]"
   ]
  },
  {
   "cell_type": "code",
   "execution_count": 7,
   "id": "01104888-73f9-45ec-b21b-887b2316bb56",
   "metadata": {},
   "outputs": [
    {
     "data": {
      "text/plain": [
       "{'group': 1,\n",
       " 'node': <fhez.nn.activation.relu.RELU at 0x7fc1d5e7b640>,\n",
       " 'new': 'new'}"
      ]
     },
     "execution_count": 7,
     "metadata": {},
     "output_type": "execute_result"
    }
   ],
   "source": [
    "# get and set node properties\n",
    "graph.nodes[\"CNN-acti\"][\"new\"] = \"new\"\n",
    "graph.nodes[\"CNN-acti\"]"
   ]
  },
  {
   "cell_type": "code",
   "execution_count": 8,
   "id": "9992fca9-e753-41f0-b455-3f102a1d36af",
   "metadata": {},
   "outputs": [
    {
     "data": {
      "text/plain": [
       "{'group': 1,\n",
       " 'node': <fhez.nn.activation.relu.RELU at 0x7fc1d5e7b640>,\n",
       " 'new': 'verbose'}"
      ]
     },
     "execution_count": 8,
     "metadata": {},
     "output_type": "execute_result"
    }
   ],
   "source": [
    "# same as above but intermediary object without dict key lookup is more verbose\n",
    "graph.nodes(data=True)[\"CNN-acti\"][\"new\"] = \"verbose\"\n",
    "graph.nodes(data=True)[\"CNN-acti\"]"
   ]
  },
  {
   "cell_type": "code",
   "execution_count": null,
   "id": "77d1c23f-aaac-4592-bd99-cd0ee8e64bdb",
   "metadata": {},
   "outputs": [],
   "source": [
    "# more verbose vs less verbose node intermediary\n",
    "print(graph.nodes)\n",
    "print(graph.nodes(data=True))"
   ]
  },
  {
   "cell_type": "markdown",
   "id": "a93e03a4-71be-42ff-baca-80364f748e00",
   "metadata": {},
   "source": [
    "Forward Data Access\n",
    "-------------------"
   ]
  },
  {
   "cell_type": "code",
   "execution_count": 10,
   "id": "540c54e8-d072-4b72-9790-5724bef0c391",
   "metadata": {},
   "outputs": [
    {
     "data": {
      "text/plain": [
       "AtlasView({0: {'weight': 2}, 1: {}})"
      ]
     },
     "execution_count": 10,
     "metadata": {},
     "output_type": "execute_result"
    }
   ],
   "source": [
    "# direct edge lookup but not very useful as NOT WRITEABLE\n",
    "graph[\"CNN-acti\"][\"Dense-0\"]"
   ]
  },
  {
   "cell_type": "code",
   "execution_count": 11,
   "id": "4cc82d18-d18e-45bf-af21-33810d62e045",
   "metadata": {},
   "outputs": [
    {
     "data": {
      "text/plain": [
       "OutMultiEdgeDataView([('CNN-acti', 'Dense-0'), ('CNN-acti', 'Dense-0'), ('CNN-acti', 'Dense-1'), ('CNN-acti', 'Dense-2'), ('CNN-acti', 'Dense-3'), ('CNN-acti', 'Dense-4'), ('CNN-acti', 'Dense-5'), ('CNN-acti', 'Dense-6'), ('CNN-acti', 'Dense-7'), ('CNN-acti', 'Dense-8'), ('CNN-acti', 'Dense-9')])"
      ]
     },
     "execution_count": 11,
     "metadata": {},
     "output_type": "execute_result"
    }
   ],
   "source": [
    "# getting list of forward edges by name (composite)\n",
    "graph.edges(\"CNN-acti\")"
   ]
  },
  {
   "cell_type": "code",
   "execution_count": 12,
   "id": "2aaee62d-9cfc-4ecc-9657-5e2f6eb135c5",
   "metadata": {},
   "outputs": [
    {
     "data": {
      "text/plain": [
       "OutMultiEdgeDataView([('CNN-acti', 'Dense-0', {'weight': 2}), ('CNN-acti', 'Dense-0', {}), ('CNN-acti', 'Dense-1', {'weight': 2}), ('CNN-acti', 'Dense-2', {'weight': 2}), ('CNN-acti', 'Dense-3', {'weight': 2}), ('CNN-acti', 'Dense-4', {'weight': 2}), ('CNN-acti', 'Dense-5', {'weight': 2}), ('CNN-acti', 'Dense-6', {'weight': 2}), ('CNN-acti', 'Dense-7', {'weight': 2}), ('CNN-acti', 'Dense-8', {'weight': 2}), ('CNN-acti', 'Dense-9', {'weight': 2})])"
      ]
     },
     "execution_count": 12,
     "metadata": {},
     "output_type": "execute_result"
    }
   ],
   "source": [
    "# getting list of forward edges with names and attributes\n",
    "graph.edges(\"CNN-acti\", data=True)"
   ]
  },
  {
   "cell_type": "code",
   "execution_count": 13,
   "id": "21464747-0f1d-4119-8d9a-b8b3cda1ede4",
   "metadata": {},
   "outputs": [
    {
     "name": "stdout",
     "output_type": "stream",
     "text": [
      "('CNN-acti', 'Dense-0', {'weight': 2, 'something': 'me'})\n",
      "('CNN-acti', 'Dense-0', {'something': 'me'})\n",
      "('CNN-acti', 'Dense-1', {'weight': 2, 'something': 'me'})\n",
      "('CNN-acti', 'Dense-2', {'weight': 2, 'something': 'me'})\n",
      "('CNN-acti', 'Dense-3', {'weight': 2, 'something': 'me'})\n",
      "('CNN-acti', 'Dense-4', {'weight': 2, 'something': 'me'})\n",
      "('CNN-acti', 'Dense-5', {'weight': 2, 'something': 'me'})\n",
      "('CNN-acti', 'Dense-6', {'weight': 2, 'something': 'me'})\n",
      "('CNN-acti', 'Dense-7', {'weight': 2, 'something': 'me'})\n",
      "('CNN-acti', 'Dense-8', {'weight': 2, 'something': 'me'})\n",
      "('CNN-acti', 'Dense-9', {'weight': 2, 'something': 'me'})\n"
     ]
    }
   ],
   "source": [
    "# setting edge data\n",
    "for edge in graph.edges(\"CNN-acti\", data=True):\n",
    "    edge[2][\"something\"] = \"me\"\n",
    "    \n",
    "# proving that it has effected the graph\n",
    "for edge in graph.edges(\"CNN-acti\", data=True):\n",
    "    print(edge)"
   ]
  },
  {
   "cell_type": "code",
   "execution_count": 14,
   "id": "d7d69ff9-48a0-4055-8e8a-711457235305",
   "metadata": {},
   "outputs": [
    {
     "name": "stdout",
     "output_type": "stream",
     "text": [
      "Dense-0 <class 'str'>\n",
      "Dense-1 <class 'str'>\n",
      "Dense-2 <class 'str'>\n",
      "Dense-3 <class 'str'>\n",
      "Dense-4 <class 'str'>\n",
      "Dense-5 <class 'str'>\n",
      "Dense-6 <class 'str'>\n",
      "Dense-7 <class 'str'>\n",
      "Dense-8 <class 'str'>\n",
      "Dense-9 <class 'str'>\n"
     ]
    }
   ],
   "source": [
    "# THIS DOES NOT SEE PARALLEL EDGES AS IT ONLY LISTS UNIQUE SUCCESSOR NODES!!!!!!!!!!!!!\n",
    "for i in graph.successors(\"CNN-acti\"):\n",
    "    print(i, type(i))"
   ]
  },
  {
   "cell_type": "markdown",
   "id": "78ea71ca-ff98-4db9-b48e-e9ac16242070",
   "metadata": {},
   "source": [
    "Backward Data Access\n",
    "--------------------"
   ]
  },
  {
   "cell_type": "code",
   "execution_count": 15,
   "id": "6ff3da39-dbd5-49b2-ab9c-e5e73df8cf0c",
   "metadata": {},
   "outputs": [
    {
     "data": {
      "text/plain": [
       "InMultiEdgeDataView([('CNN-sop-0', 'CNN-acti', {'weight': 0}), ('CNN-sop-0', 'CNN-acti', {}), ('CNN-sop-1', 'CNN-acti', {'weight': 0}), ('CNN-sop-2', 'CNN-acti', {'weight': 0}), ('CNN-sop-3', 'CNN-acti', {'weight': 0}), ('CNN-sop-4', 'CNN-acti', {'weight': 0}), ('CNN-sop-5', 'CNN-acti', {'weight': 0}), ('CNN-sop-6', 'CNN-acti', {'weight': 0}), ('CNN-sop-7', 'CNN-acti', {'weight': 0}), ('CNN-sop-8', 'CNN-acti', {'weight': 0}), ('CNN-sop-9', 'CNN-acti', {'weight': 0}), ('CNN-sop-10', 'CNN-acti', {'weight': 0}), ('CNN-sop-11', 'CNN-acti', {'weight': 0}), ('CNN-sop-12', 'CNN-acti', {'weight': 0}), ('CNN-sop-13', 'CNN-acti', {'weight': 0}), ('CNN-sop-14', 'CNN-acti', {'weight': 0}), ('CNN-sop-15', 'CNN-acti', {'weight': 0}), ('CNN-sop-16', 'CNN-acti', {'weight': 0}), ('CNN-sop-17', 'CNN-acti', {'weight': 0}), ('CNN-sop-18', 'CNN-acti', {'weight': 0}), ('CNN-sop-19', 'CNN-acti', {'weight': 0}), ('CNN-sop-20', 'CNN-acti', {'weight': 0}), ('CNN-sop-21', 'CNN-acti', {'weight': 0}), ('CNN-sop-22', 'CNN-acti', {'weight': 0}), ('CNN-sop-23', 'CNN-acti', {'weight': 0}), ('CNN-sop-24', 'CNN-acti', {'weight': 0}), ('CNN-sop-25', 'CNN-acti', {'weight': 0}), ('CNN-sop-26', 'CNN-acti', {'weight': 0}), ('CNN-sop-27', 'CNN-acti', {'weight': 0}), ('CNN-sop-28', 'CNN-acti', {'weight': 0}), ('CNN-sop-29', 'CNN-acti', {'weight': 0}), ('CNN-sop-30', 'CNN-acti', {'weight': 0}), ('CNN-sop-31', 'CNN-acti', {'weight': 0}), ('CNN-sop-32', 'CNN-acti', {'weight': 0}), ('CNN-sop-33', 'CNN-acti', {'weight': 0}), ('CNN-sop-34', 'CNN-acti', {'weight': 0}), ('CNN-sop-35', 'CNN-acti', {'weight': 0})])"
      ]
     },
     "execution_count": 15,
     "metadata": {},
     "output_type": "execute_result"
    }
   ],
   "source": [
    "# THE ONLY VIABLE METHOD FOR DIRECTED MULTI GRAPHS WITH PARALLEL EDGES\n",
    "graph.in_edges(\"CNN-acti\", data=True)"
   ]
  },
  {
   "cell_type": "code",
   "execution_count": 16,
   "id": "b9d593f6-9054-41bc-9b0a-1041a9bbf7af",
   "metadata": {},
   "outputs": [
    {
     "name": "stdout",
     "output_type": "stream",
     "text": [
      "('CNN-sop-0', 'CNN-acti', {'weight': 0, 'new': 'Something Borrowed'})\n",
      "('CNN-sop-0', 'CNN-acti', {'new': 'Something Borrowed'})\n",
      "('CNN-sop-1', 'CNN-acti', {'weight': 0, 'new': 'Something Borrowed'})\n",
      "('CNN-sop-2', 'CNN-acti', {'weight': 0, 'new': 'Something Borrowed'})\n",
      "('CNN-sop-3', 'CNN-acti', {'weight': 0, 'new': 'Something Borrowed'})\n",
      "('CNN-sop-4', 'CNN-acti', {'weight': 0, 'new': 'Something Borrowed'})\n",
      "('CNN-sop-5', 'CNN-acti', {'weight': 0, 'new': 'Something Borrowed'})\n",
      "('CNN-sop-6', 'CNN-acti', {'weight': 0, 'new': 'Something Borrowed'})\n",
      "('CNN-sop-7', 'CNN-acti', {'weight': 0, 'new': 'Something Borrowed'})\n",
      "('CNN-sop-8', 'CNN-acti', {'weight': 0, 'new': 'Something Borrowed'})\n",
      "('CNN-sop-9', 'CNN-acti', {'weight': 0, 'new': 'Something Borrowed'})\n",
      "('CNN-sop-10', 'CNN-acti', {'weight': 0, 'new': 'Something Borrowed'})\n",
      "('CNN-sop-11', 'CNN-acti', {'weight': 0, 'new': 'Something Borrowed'})\n",
      "('CNN-sop-12', 'CNN-acti', {'weight': 0, 'new': 'Something Borrowed'})\n",
      "('CNN-sop-13', 'CNN-acti', {'weight': 0, 'new': 'Something Borrowed'})\n",
      "('CNN-sop-14', 'CNN-acti', {'weight': 0, 'new': 'Something Borrowed'})\n",
      "('CNN-sop-15', 'CNN-acti', {'weight': 0, 'new': 'Something Borrowed'})\n",
      "('CNN-sop-16', 'CNN-acti', {'weight': 0, 'new': 'Something Borrowed'})\n",
      "('CNN-sop-17', 'CNN-acti', {'weight': 0, 'new': 'Something Borrowed'})\n",
      "('CNN-sop-18', 'CNN-acti', {'weight': 0, 'new': 'Something Borrowed'})\n",
      "('CNN-sop-19', 'CNN-acti', {'weight': 0, 'new': 'Something Borrowed'})\n",
      "('CNN-sop-20', 'CNN-acti', {'weight': 0, 'new': 'Something Borrowed'})\n",
      "('CNN-sop-21', 'CNN-acti', {'weight': 0, 'new': 'Something Borrowed'})\n",
      "('CNN-sop-22', 'CNN-acti', {'weight': 0, 'new': 'Something Borrowed'})\n",
      "('CNN-sop-23', 'CNN-acti', {'weight': 0, 'new': 'Something Borrowed'})\n",
      "('CNN-sop-24', 'CNN-acti', {'weight': 0, 'new': 'Something Borrowed'})\n",
      "('CNN-sop-25', 'CNN-acti', {'weight': 0, 'new': 'Something Borrowed'})\n",
      "('CNN-sop-26', 'CNN-acti', {'weight': 0, 'new': 'Something Borrowed'})\n",
      "('CNN-sop-27', 'CNN-acti', {'weight': 0, 'new': 'Something Borrowed'})\n",
      "('CNN-sop-28', 'CNN-acti', {'weight': 0, 'new': 'Something Borrowed'})\n",
      "('CNN-sop-29', 'CNN-acti', {'weight': 0, 'new': 'Something Borrowed'})\n",
      "('CNN-sop-30', 'CNN-acti', {'weight': 0, 'new': 'Something Borrowed'})\n",
      "('CNN-sop-31', 'CNN-acti', {'weight': 0, 'new': 'Something Borrowed'})\n",
      "('CNN-sop-32', 'CNN-acti', {'weight': 0, 'new': 'Something Borrowed'})\n",
      "('CNN-sop-33', 'CNN-acti', {'weight': 0, 'new': 'Something Borrowed'})\n",
      "('CNN-sop-34', 'CNN-acti', {'weight': 0, 'new': 'Something Borrowed'})\n",
      "('CNN-sop-35', 'CNN-acti', {'weight': 0, 'new': 'Something Borrowed'})\n"
     ]
    }
   ],
   "source": [
    "# THE ONLY GOOD WAY TO SET PREDECESSOR NODES (but probably best not to do so in most cases as it doesnt make much sense)\n",
    "for edge in graph.in_edges(\"CNN-acti\", data=True):\n",
    "    edge[2][\"new\"] = \"Something Borrowed\"\n",
    "    print(edge)"
   ]
  },
  {
   "cell_type": "code",
   "execution_count": 17,
   "id": "b30ad45a-11d3-453c-85a3-6e864edd7179",
   "metadata": {},
   "outputs": [
    {
     "data": {
      "text/plain": [
       "AdjacencyView({'CNN-sop-0': {0: {'weight': 0, 'new': 'Something Borrowed'}, 1: {'new': 'Something Borrowed'}}, 'CNN-sop-1': {0: {'weight': 0, 'new': 'Something Borrowed'}}, 'CNN-sop-2': {0: {'weight': 0, 'new': 'Something Borrowed'}}, 'CNN-sop-3': {0: {'weight': 0, 'new': 'Something Borrowed'}}, 'CNN-sop-4': {0: {'weight': 0, 'new': 'Something Borrowed'}}, 'CNN-sop-5': {0: {'weight': 0, 'new': 'Something Borrowed'}}, 'CNN-sop-6': {0: {'weight': 0, 'new': 'Something Borrowed'}}, 'CNN-sop-7': {0: {'weight': 0, 'new': 'Something Borrowed'}}, 'CNN-sop-8': {0: {'weight': 0, 'new': 'Something Borrowed'}}, 'CNN-sop-9': {0: {'weight': 0, 'new': 'Something Borrowed'}}, 'CNN-sop-10': {0: {'weight': 0, 'new': 'Something Borrowed'}}, 'CNN-sop-11': {0: {'weight': 0, 'new': 'Something Borrowed'}}, 'CNN-sop-12': {0: {'weight': 0, 'new': 'Something Borrowed'}}, 'CNN-sop-13': {0: {'weight': 0, 'new': 'Something Borrowed'}}, 'CNN-sop-14': {0: {'weight': 0, 'new': 'Something Borrowed'}}, 'CNN-sop-15': {0: {'weight': 0, 'new': 'Something Borrowed'}}, 'CNN-sop-16': {0: {'weight': 0, 'new': 'Something Borrowed'}}, 'CNN-sop-17': {0: {'weight': 0, 'new': 'Something Borrowed'}}, 'CNN-sop-18': {0: {'weight': 0, 'new': 'Something Borrowed'}}, 'CNN-sop-19': {0: {'weight': 0, 'new': 'Something Borrowed'}}, 'CNN-sop-20': {0: {'weight': 0, 'new': 'Something Borrowed'}}, 'CNN-sop-21': {0: {'weight': 0, 'new': 'Something Borrowed'}}, 'CNN-sop-22': {0: {'weight': 0, 'new': 'Something Borrowed'}}, 'CNN-sop-23': {0: {'weight': 0, 'new': 'Something Borrowed'}}, 'CNN-sop-24': {0: {'weight': 0, 'new': 'Something Borrowed'}}, 'CNN-sop-25': {0: {'weight': 0, 'new': 'Something Borrowed'}}, 'CNN-sop-26': {0: {'weight': 0, 'new': 'Something Borrowed'}}, 'CNN-sop-27': {0: {'weight': 0, 'new': 'Something Borrowed'}}, 'CNN-sop-28': {0: {'weight': 0, 'new': 'Something Borrowed'}}, 'CNN-sop-29': {0: {'weight': 0, 'new': 'Something Borrowed'}}, 'CNN-sop-30': {0: {'weight': 0, 'new': 'Something Borrowed'}}, 'CNN-sop-31': {0: {'weight': 0, 'new': 'Something Borrowed'}}, 'CNN-sop-32': {0: {'weight': 0, 'new': 'Something Borrowed'}}, 'CNN-sop-33': {0: {'weight': 0, 'new': 'Something Borrowed'}}, 'CNN-sop-34': {0: {'weight': 0, 'new': 'Something Borrowed'}}, 'CNN-sop-35': {0: {'weight': 0, 'new': 'Something Borrowed'}}})"
      ]
     },
     "execution_count": 17,
     "metadata": {},
     "output_type": "execute_result"
    }
   ],
   "source": [
    "# TERRIBLE COMPLETELEY MISSES PARALLEL EDGES!!!!!!\n",
    "graph.pred[\"CNN-acti\"]"
   ]
  },
  {
   "cell_type": "code",
   "execution_count": 18,
   "id": "388f1221-b500-475c-a7a7-539ca2053b8f",
   "metadata": {},
   "outputs": [
    {
     "name": "stdout",
     "output_type": "stream",
     "text": [
      "CNN-sop-0 <class 'str'>\n",
      "CNN-sop-1 <class 'str'>\n",
      "CNN-sop-2 <class 'str'>\n",
      "CNN-sop-3 <class 'str'>\n",
      "CNN-sop-4 <class 'str'>\n",
      "CNN-sop-5 <class 'str'>\n",
      "CNN-sop-6 <class 'str'>\n",
      "CNN-sop-7 <class 'str'>\n",
      "CNN-sop-8 <class 'str'>\n",
      "CNN-sop-9 <class 'str'>\n",
      "CNN-sop-10 <class 'str'>\n",
      "CNN-sop-11 <class 'str'>\n",
      "CNN-sop-12 <class 'str'>\n",
      "CNN-sop-13 <class 'str'>\n",
      "CNN-sop-14 <class 'str'>\n",
      "CNN-sop-15 <class 'str'>\n",
      "CNN-sop-16 <class 'str'>\n",
      "CNN-sop-17 <class 'str'>\n",
      "CNN-sop-18 <class 'str'>\n",
      "CNN-sop-19 <class 'str'>\n",
      "CNN-sop-20 <class 'str'>\n",
      "CNN-sop-21 <class 'str'>\n",
      "CNN-sop-22 <class 'str'>\n",
      "CNN-sop-23 <class 'str'>\n",
      "CNN-sop-24 <class 'str'>\n",
      "CNN-sop-25 <class 'str'>\n",
      "CNN-sop-26 <class 'str'>\n",
      "CNN-sop-27 <class 'str'>\n",
      "CNN-sop-28 <class 'str'>\n",
      "CNN-sop-29 <class 'str'>\n",
      "CNN-sop-30 <class 'str'>\n",
      "CNN-sop-31 <class 'str'>\n",
      "CNN-sop-32 <class 'str'>\n",
      "CNN-sop-33 <class 'str'>\n",
      "CNN-sop-34 <class 'str'>\n",
      "CNN-sop-35 <class 'str'>\n"
     ]
    }
   ],
   "source": [
    "# TERRIBLE DOES NOT SEE PARALLEL EDGES!!!!!!!!!\n",
    "for i in graph.predecessors(\"CNN-acti\"):\n",
    "    print(i, type(i))"
   ]
  },
  {
   "cell_type": "code",
   "execution_count": null,
   "id": "f29b11ff-3de4-4ecf-85a6-f69d6ec5ae55",
   "metadata": {},
   "outputs": [],
   "source": []
  }
 ],
 "metadata": {
  "kernelspec": {
   "display_name": "Python 3 (ipykernel)",
   "language": "python",
   "name": "python3"
  },
  "language_info": {
   "codemirror_mode": {
    "name": "ipython",
    "version": 3
   },
   "file_extension": ".py",
   "mimetype": "text/x-python",
   "name": "python",
   "nbconvert_exporter": "python",
   "pygments_lexer": "ipython3",
   "version": "3.9.6"
  }
 },
 "nbformat": 4,
 "nbformat_minor": 5
}
