{
 "cells": [
  {
   "cell_type": "markdown",
   "id": "fdc69b41-51f3-48f9-89f6-933bd5310157",
   "metadata": {},
   "source": [
    "Fully Homomorphically Encrypted Fashion-MNIST CNN Example\n",
    "=========================================================\n",
    "\n",
    "- This example will download Fashion-MNIST (a drop in replacement for MNIST)\n",
    "- Prepare and encrypt Fashion-MNIST\n",
    "- Train a very basic CNN on Fashion-MNIST\n",
    "- Output some classification of the Fashion-MNIST testing set and calculate its error"
   ]
  },
  {
   "cell_type": "markdown",
   "id": "fa8c2f4a-b990-4909-999a-be6545483087",
   "metadata": {},
   "source": [
    "Download Fashion-MNIST\n",
    "----------------------\n",
    "\n",
    "- Get Fashion-MNIST as a zipped up set of CSVs\n",
    "- Unizp Fashion-MNIST"
   ]
  },
  {
   "cell_type": "code",
   "execution_count": 1,
   "id": "7eabf22f-ba77-470b-a139-f1bad38c26e0",
   "metadata": {},
   "outputs": [],
   "source": [
    "import os\n",
    "import requests\n",
    "import zipfile"
   ]
  },
  {
   "cell_type": "code",
   "execution_count": 2,
   "id": "74f0a8e2-6f34-45d8-935d-d4d1a23a0b29",
   "metadata": {},
   "outputs": [
    {
     "name": "stdout",
     "output_type": "stream",
     "text": [
      "/python-fhe/examples\n"
     ]
    }
   ],
   "source": [
    "cwd = os.getcwd() # current working directory\n",
    "print(cwd)"
   ]
  },
  {
   "cell_type": "code",
   "execution_count": 3,
   "id": "f9e21c5e-b896-48d1-9808-8c9c0f999581",
   "metadata": {},
   "outputs": [
    {
     "name": "stdout",
     "output_type": "stream",
     "text": [
      "/python-fhe/examples/datasets\n"
     ]
    }
   ],
   "source": [
    "data_dir = os.path.join(cwd, \"datasets\")\n",
    "if os.path.exists(data_dir):\n",
    "    pass\n",
    "else:\n",
    "    os.mkdir(data_dir)\n",
    "print(data_dir)"
   ]
  },
  {
   "cell_type": "code",
   "execution_count": 4,
   "id": "103176f2-a7c4-463e-8403-354db1316d82",
   "metadata": {},
   "outputs": [
    {
     "name": "stdout",
     "output_type": "stream",
     "text": [
      "Skipping mnist download\n"
     ]
    }
   ],
   "source": [
    "mnist_zip = os.path.join(data_dir, \"mnist.zip\")\n",
    "if os.path.exists(mnist_zip):\n",
    "    print(\"Skipping mnist download\")\n",
    "else:\n",
    "    print(\"Downloading Fashion-MNIST\")\n",
    "    mnist_url = \"http://nextcloud.deepcypher.me/s/wjLa6YFw8Bcbra9/download\"\n",
    "    r = requests.get(mnist_url, allow_redirects=True, verify=False)\n",
    "    with open(mnist_zip, \"wb\") as f:\n",
    "        f.write(r.content)"
   ]
  },
  {
   "cell_type": "code",
   "execution_count": 5,
   "id": "df4d5a3a-bc16-4f87-b3c7-65524a8a59a6",
   "metadata": {},
   "outputs": [],
   "source": [
    "unzip_dir = os.path.join(data_dir, \"mnist\")\n",
    "if os.path.exists(unzip_dir):\n",
    "    pass\n",
    "else:\n",
    "    os.mkdir(unzip_dir)\n",
    "with zipfile.ZipFile(mnist_zip, \"r\") as zip_ref:\n",
    "    zip_ref.extractall(unzip_dir)"
   ]
  },
  {
   "cell_type": "markdown",
   "id": "7d4abd62-426a-4abf-a205-9c5cf1a696ff",
   "metadata": {},
   "source": [
    "\"Wrangle\"/ prepare Fashion-MNIST\n",
    "--------------------------------\n",
    "\n",
    "- Read in the Fashion-MNIST CSVs\n",
    "- Split training and testing features (x) from target (y)\n",
    "- Normalise x and y (in the range 0-1 to prevent infinite numbers when using our approximations)"
   ]
  },
  {
   "cell_type": "code",
   "execution_count": 6,
   "id": "63d89550-ef22-4ee0-a041-7e23382f7542",
   "metadata": {},
   "outputs": [],
   "source": [
    "import pandas as pd\n",
    "import numpy as np\n",
    "import tqdm"
   ]
  },
  {
   "cell_type": "code",
   "execution_count": 7,
   "id": "1339b61a-a11c-4123-90ea-47a336535cc5",
   "metadata": {},
   "outputs": [],
   "source": [
    "train_file = os.path.join(unzip_dir, \"fashion-mnist_train.csv\") \n",
    "test_file = os.path.join(unzip_dir, \"fashion-mnist_test.csv\")\n",
    "train = pd.read_csv(train_file)\n",
    "test = pd.read_csv(train_file)\n",
    "# train"
   ]
  },
  {
   "cell_type": "code",
   "execution_count": 8,
   "id": "d48e0390-8ae5-48ad-9fa6-f1aac6c40d46",
   "metadata": {},
   "outputs": [
    {
     "name": "stdout",
     "output_type": "stream",
     "text": [
      "(60000, 784)\n",
      "(60000,)\n"
     ]
    }
   ],
   "source": [
    "train_y = train.iloc[:, 0]\n",
    "train_x = train.iloc[:, 1:]\n",
    "test_x = train.iloc[:, 1:]\n",
    "test_y = test.iloc[:, 0]\n",
    "train_x = train_x.to_numpy()\n",
    "train_y = train_y.to_numpy()\n",
    "test_x = test_x.to_numpy()\n",
    "test_y = test_y.to_numpy()\n",
    "print(train_x.shape)\n",
    "print(train_y.shape)"
   ]
  },
  {
   "cell_type": "markdown",
   "id": "6e1c4660-517d-48be-bec4-fe579f0dc385",
   "metadata": {},
   "source": [
    "Parameterise Encoding/ Encryption and Create an Encrypted Generator\n",
    "-------------------------------------------------------------------\n",
    "\n",
    "- Import our encryption library\n",
    "- Parameterise the encryption tailored to the computations we will use\n",
    "- Create a generator that returns encrypted versions of whatever we give it row-by-row (since each image is encoded as a row here)"
   ]
  },
  {
   "cell_type": "code",
   "execution_count": 9,
   "id": "3ea6ce9a-b9ed-42b4-bb93-9fe31776f488",
   "metadata": {},
   "outputs": [],
   "source": [
    "import seal # https://github.com/Huelse/SEAL-Python OR https://github.com/DreamingRaven/python-seal\n",
    "from fhe.nn.layer.cnn import Layer_CNN # from this library\n",
    "from fhe.nn.layer.ann import Layer_ANN # from this library\n",
    "from fhe.rearray import ReArray # meta encryption object from this library"
   ]
  },
  {
   "cell_type": "code",
   "execution_count": 10,
   "id": "f740fa97-b6a5-49e3-834e-a649b37973df",
   "metadata": {},
   "outputs": [],
   "source": [
    "encryption_parameters = {\n",
    "            \"scheme\": seal.scheme_type.CKKS,\n",
    "            \"poly_modulus_degree\": 8192*2,\n",
    "            \"coefficient_modulus\":\n",
    "                [45, 30, 30, 30, 30, 30, 30, 30, 30, 30, 30, 45],\n",
    "            \"scale\": pow(2.0, 30),\n",
    "            \"cache\": True,\n",
    "}"
   ]
  },
  {
   "cell_type": "code",
   "execution_count": 11,
   "id": "73f5efb5-2e32-4ae1-bb44-cbcfc5d0ccf8",
   "metadata": {},
   "outputs": [],
   "source": [
    "# Generate Encrypted data peace-meal (as it can get very large)\n",
    "def row_encrypted_generator(data: np.ndarray, shape: tuple):\n",
    "    \"\"\"Generate encrypted data of desired shape from rows.\"\"\"\n",
    "    for row in data:\n",
    "        row = np.reshape(row, newshape=shape) / 255 # reshape to image shape and normalise between 0-1\n",
    "        yield ReArray(row, **encryption_parameters)"
   ]
  },
  {
   "cell_type": "markdown",
   "id": "3a89daf0-2be7-4f85-823e-25635a430045",
   "metadata": {},
   "source": [
    "Train Using Encrypted Data\n",
    "--------------------------\n",
    "\n",
    "- Instantiate our neural networks\n",
    "- Call our encrypted data generator to generate data as needed\n",
    "- Compute the forward pass of our neural networks\n",
    "- Compute the backward pass of our neural networks"
   ]
  },
  {
   "cell_type": "code",
   "execution_count": null,
   "id": "7cce10b9-0882-4218-a92a-196b3d0a206a",
   "metadata": {},
   "outputs": [
    {
     "name": "stderr",
     "output_type": "stream",
     "text": [
      "Layer_CNN.forward: 100%|\u001b[34m████████████████████████\u001b[0m| 36/36 [00:52<00:00,  1.45s/it]\u001b[0m\n",
      "Layer_ANN.forward: 100%|\u001b[34m████████████████████\u001b[0m| 36/36 [00:00<00:00, 125934.07it/s]\u001b[0m\n",
      "Layer_CNN.forward:   8%|\u001b[34m██                       \u001b[0m| 3/36 [00:04<00:47,  1.44s/it]\u001b[0m"
     ]
    }
   ],
   "source": [
    "cnn = Layer_CNN(weights=( 1, 6, 6 ), stride=[ 1, 4, 4 ], bias=0)\n",
    "dense = None\n",
    "for cyphertext in row_encrypted_generator(data=train_x, shape=( 1, 28, 28 )):\n",
    "    cnn_acti = cnn.forward(cyphertext)\n",
    "    if dense is None:\n",
    "        dense = Layer_ANN(weights=(len(cnn_acti),), bias=0)\n",
    "    dense.forward(cnn_acti)"
   ]
  },
  {
   "cell_type": "markdown",
   "id": "a877f114-6d83-4590-a835-ca403126ed0e",
   "metadata": {},
   "source": [
    "Test Using Encrypted Data\n",
    "-------------------------"
   ]
  },
  {
   "cell_type": "code",
   "execution_count": null,
   "id": "7f02e846-9715-4a23-9884-e2be77dcb884",
   "metadata": {},
   "outputs": [],
   "source": []
  }
 ],
 "metadata": {
  "kernelspec": {
   "display_name": "Python 3",
   "language": "python",
   "name": "python3"
  },
  "language_info": {
   "codemirror_mode": {
    "name": "ipython",
    "version": 3
   },
   "file_extension": ".py",
   "mimetype": "text/x-python",
   "name": "python",
   "nbconvert_exporter": "python",
   "pygments_lexer": "ipython3",
   "version": "3.9.5"
  }
 },
 "nbformat": 4,
 "nbformat_minor": 5
}
