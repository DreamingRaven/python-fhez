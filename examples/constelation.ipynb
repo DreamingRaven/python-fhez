{
 "cells": [
  {
   "cell_type": "markdown",
   "id": "99d24b05-d618-45d3-8f53-ddeb1a751ff9",
   "metadata": {},
   "source": [
    "# Constelation"
   ]
  },
  {
   "cell_type": "code",
   "execution_count": null,
   "id": "4c582b93-0024-4922-95d0-46f1159bdc4a",
   "metadata": {},
   "outputs": [],
   "source": [
    "import os\n",
    "import requests\n",
    "import zipfile"
   ]
  },
  {
   "cell_type": "code",
   "execution_count": null,
   "id": "af348b14-6633-4815-a47b-bd1622e22a13",
   "metadata": {},
   "outputs": [],
   "source": [
    "# populate this with url to your data\n",
    "data_url = \"****\"\n",
    "destination = os.path.join(os.getcwd(), \"datasets/constelation.csv\")"
   ]
  },
  {
   "cell_type": "code",
   "execution_count": null,
   "id": "4ac11c53-b177-446d-9f11-a546dbcb2abc",
   "metadata": {},
   "outputs": [],
   "source": [
    "def get_file(url, path):\n",
    "    if os.path.exists(path):\n",
    "        print(\"Skipping download {} already exists.\".format(path))\n",
    "        return None\n",
    "    print(\"Downloading {} to {} ...\".format(url, path))\n",
    "    directory, file = os.path.split(os.path.abspath(path))\n",
    "    if not os.path.exists(directory):\n",
    "        os.mkdir(directory)\n",
    "    r = requests.get(url, allow_redirects=True, verify=False)\n",
    "    with open(path, \"wb\") as f:\n",
    "        f.write(r.content)\n",
    "    print(\"Complete\")\n",
    "        \n",
    "def unzip(path, dest):\n",
    "    if os.path.exists(dest):\n",
    "        print(\"Skipping unzip as {} already exists.\".format(dest))\n",
    "        return None\n",
    "    os.mkdir(dest)\n",
    "    with zipfile.ZipFile(path, \"r\") as zip_ref:\n",
    "        zip_ref.extractall(dest)"
   ]
  },
  {
   "cell_type": "code",
   "execution_count": null,
   "id": "f13dff11-7859-48a1-94cd-17ff58c05290",
   "metadata": {},
   "outputs": [],
   "source": [
    "get_file(data_url, destination)"
   ]
  },
  {
   "cell_type": "code",
   "execution_count": null,
   "id": "fd92413c-374d-458f-8bb2-9ac80882d2e3",
   "metadata": {},
   "outputs": [],
   "source": []
  }
 ],
 "metadata": {
  "kernelspec": {
   "display_name": "Python 3 (ipykernel)",
   "language": "python",
   "name": "python3"
  },
  "language_info": {
   "codemirror_mode": {
    "name": "ipython",
    "version": 3
   },
   "file_extension": ".py",
   "mimetype": "text/x-python",
   "name": "python",
   "nbconvert_exporter": "python",
   "pygments_lexer": "ipython3",
   "version": "3.9.6"
  }
 },
 "nbformat": 4,
 "nbformat_minor": 5
}
