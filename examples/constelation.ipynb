{
 "cells": [
  {
   "cell_type": "markdown",
   "id": "99d24b05-d618-45d3-8f53-ddeb1a751ff9",
   "metadata": {},
   "source": [
    "# Get Constelation Data"
   ]
  },
  {
   "cell_type": "code",
   "execution_count": null,
   "id": "4c582b93-0024-4922-95d0-46f1159bdc4a",
   "metadata": {},
   "outputs": [],
   "source": [
    "import os\n",
    "import requests\n",
    "import zipfile\n",
    "import pandas as pd\n",
    "\n",
    "def get_file(url, path):\n",
    "    if os.path.exists(path):\n",
    "        print(\"Skipping download {} already exists.\".format(path))\n",
    "        return None\n",
    "    print(\"Downloading {} to {} ...\".format(url, path))\n",
    "    directory, file = os.path.split(os.path.abspath(path))\n",
    "    if not os.path.exists(directory):\n",
    "        os.mkdir(directory)\n",
    "    r = requests.get(url, allow_redirects=True, verify=False)\n",
    "    with open(path, \"wb\") as f:\n",
    "        f.write(r.content)\n",
    "    print(\"Complete\")\n",
    "        \n",
    "def unzip(path, dest):\n",
    "    if os.path.exists(dest):\n",
    "        print(\"Skipping unzip as {} already exists.\".format(dest))\n",
    "        return None\n",
    "    os.mkdir(dest)\n",
    "    with zipfile.ZipFile(path, \"r\") as zip_ref:\n",
    "        zip_ref.extractall(dest)"
   ]
  },
  {
   "cell_type": "code",
   "execution_count": null,
   "id": "af348b14-6633-4815-a47b-bd1622e22a13",
   "metadata": {},
   "outputs": [],
   "source": [
    "# populate this with url to your data\n",
    "data_url = \"****\"\n",
    "data_path = os.path.join(os.getcwd(), \"datasets/constelation.csv\")"
   ]
  },
  {
   "cell_type": "code",
   "execution_count": null,
   "id": "f13dff11-7859-48a1-94cd-17ff58c05290",
   "metadata": {},
   "outputs": [],
   "source": [
    "get_file(data_url, data_path)"
   ]
  },
  {
   "cell_type": "markdown",
   "id": "6cf29f67-93f0-475a-94be-ccf7a849e69b",
   "metadata": {
    "tags": []
   },
   "source": [
    "# Wrangle Dataset\n",
    "\n",
    "This will be quite specific to our data so you may need to modify this to your liking."
   ]
  },
  {
   "cell_type": "code",
   "execution_count": null,
   "id": "fd92413c-374d-458f-8bb2-9ac80882d2e3",
   "metadata": {
    "tags": []
   },
   "outputs": [],
   "source": [
    "import pandas as pd\n",
    "import numpy as np\n",
    "\n",
    "data = pd.read_csv(data_path).drop(\"totyield\", axis=1).dropna().sort_values(by=[\"milk_date\"])\n",
    "data"
   ]
  },
  {
   "cell_type": "code",
   "execution_count": null,
   "id": "5844d924-a59c-4dac-9e77-a2795ccc8551",
   "metadata": {},
   "outputs": [],
   "source": []
  },
  {
   "cell_type": "code",
   "execution_count": null,
   "id": "2613114d-86be-4344-9e4e-b826219dee7d",
   "metadata": {
    "tags": []
   },
   "outputs": [],
   "source": [
    "i = 0\n",
    "signals = []\n",
    "window_size = 20\n",
    "for group in data.groupby([\"itb\"]):\n",
    "#     print(group)\n",
    "    example = group[1].select_dtypes(include=[np.number])\n",
    "    for window in example.rolling(window=window_size):\n",
    "\n",
    "        if len(window[\"milkyield\"]) == window_size:\n",
    "            signals.append(window)\n",
    "        i += 1\n",
    "#     for window in example.rolling(window=20):\n",
    "        \n",
    "# #     for window in example.rolling(window=20):\n",
    "#         if i <=30 and i >=20:\n",
    "#             print(window)\n",
    "#         i += 1\n",
    "#         pass\n",
    "print(len(signals))\n",
    "# print(window)\n",
    "# print(type(window))\n",
    "\n",
    "#     x = group.select_dtypes(include=[np.number])\n",
    "#     print(x)\n",
    "#     for window in x.rolling(window=20):\n",
    "#         print(window)"
   ]
  },
  {
   "cell_type": "markdown",
   "id": "1927870e-23e4-4476-96fe-2ccc54cb65ec",
   "metadata": {},
   "source": [
    "# Get Constelation Model"
   ]
  },
  {
   "cell_type": "code",
   "execution_count": null,
   "id": "bab39c49-0830-492b-82f7-584a16b5646c",
   "metadata": {},
   "outputs": [],
   "source": [
    "from fhez.nn.graph.prefab import cnn_regressor\n",
    "\n",
    "network = cnn_regressor(data_shape=signals[0].shape, filter_length=5, stride=3)"
   ]
  },
  {
   "cell_type": "code",
   "execution_count": null,
   "id": "4f8c4cf9-4f89-453a-9585-5a5ca5a5db7b",
   "metadata": {},
   "outputs": [],
   "source": [
    "import copy\n",
    "def strip(graph):\n",
    "    g = copy.deepcopy(graph)\n",
    "    for node in g.nodes(data=True):\n",
    "        try:\n",
    "            # node[1][\"title\"] = \"{}:\\n{}\".format(type(node[1][\"node\"]), repr(node[1][\"node\"]))\n",
    "            del node[1][\"node\"]\n",
    "        except KeyError:\n",
    "            pass\n",
    "    return g"
   ]
  },
  {
   "cell_type": "code",
   "execution_count": null,
   "id": "01fd5759-7448-4db4-bbd6-1ce9c66dcf99",
   "metadata": {},
   "outputs": [],
   "source": [
    "from pyvis.network import Network\n",
    "stripped = strip(network)\n",
    "print(stripped)\n",
    "\n",
    "from pyvis.network import Network\n",
    "net = Network('700px', '700px', bgcolor='#222222', font_color='white', notebook=True)\n",
    "net.from_nx(stripped)\n",
    "# net.show_buttons(filter_=\"physics\")\n",
    "net.show(\"constelation.html\")"
   ]
  },
  {
   "cell_type": "markdown",
   "id": "788f4805-f1c4-4397-b105-7d5b714ec7c7",
   "metadata": {},
   "source": [
    "# Train Model"
   ]
  },
  {
   "cell_type": "code",
   "execution_count": null,
   "id": "6a13ee12-c63b-47d4-84f6-04fb11dedf6d",
   "metadata": {},
   "outputs": [],
   "source": []
  }
 ],
 "metadata": {
  "kernelspec": {
   "display_name": "Python 3 (ipykernel)",
   "language": "python",
   "name": "python3"
  },
  "language_info": {
   "codemirror_mode": {
    "name": "ipython",
    "version": 3
   },
   "file_extension": ".py",
   "mimetype": "text/x-python",
   "name": "python",
   "nbconvert_exporter": "python",
   "pygments_lexer": "ipython3",
   "version": "3.9.6"
  }
 },
 "nbformat": 4,
 "nbformat_minor": 5
}
